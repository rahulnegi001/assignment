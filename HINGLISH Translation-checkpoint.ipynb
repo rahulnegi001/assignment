{
 "cells": [
  {
   "cell_type": "code",
   "execution_count": 1,
   "id": "796441ec",
   "metadata": {},
   "outputs": [
    {
     "name": "stderr",
     "output_type": "stream",
     "text": [
      "[nltk_data] Downloading package omw-1.4 to\n",
      "[nltk_data]     C:\\Users\\negir\\AppData\\Roaming\\nltk_data...\n"
     ]
    },
    {
     "data": {
      "text/plain": [
       "True"
      ]
     },
     "execution_count": 1,
     "metadata": {},
     "output_type": "execute_result"
    }
   ],
   "source": [
    "import nltk\n",
    "nltk.download('omw-1.4')"
   ]
  },
  {
   "cell_type": "code",
   "execution_count": 2,
   "id": "7f9d3e42",
   "metadata": {},
   "outputs": [],
   "source": [
    "from transformers import MarianMTModel, MarianTokenizer\n",
    "import nltk\n",
    "from nltk.tokenize import word_tokenize\n",
    "from nltk.stem import WordNetLemmatizer\n",
    "from nltk.tag import pos_tag\n",
    "import re"
   ]
  },
  {
   "cell_type": "code",
   "execution_count": 3,
   "id": "ed9c4dc6",
   "metadata": {},
   "outputs": [],
   "source": [
    "lemmatizer = WordNetLemmatizer()"
   ]
  },
  {
   "cell_type": "code",
   "execution_count": 4,
   "id": "c7a6005c",
   "metadata": {},
   "outputs": [
    {
     "name": "stderr",
     "output_type": "stream",
     "text": [
      "C:\\Users\\negir\\anaconda3\\lib\\site-packages\\transformers\\models\\marian\\tokenization_marian.py:194: UserWarning: Recommended: pip install sacremoses.\n",
      "  warnings.warn(\"Recommended: pip install sacremoses.\")\n"
     ]
    }
   ],
   "source": [
    "model = MarianMTModel.from_pretrained(\"Helsinki-NLP/opus-mt-en-hi\")\n",
    "tokenizer = MarianTokenizer.from_pretrained(\"Helsinki-NLP/opus-mt-en-hi\")"
   ]
  },
  {
   "cell_type": "code",
   "execution_count": 5,
   "id": "873c3d8c",
   "metadata": {},
   "outputs": [],
   "source": [
    "def spot_nouns_verbs(en_article):\n",
    "    words = word_tokenize(en_article)\n",
    "    tagged_words = pos_tag(words)\n",
    "    auxiliary_verbs = ['am', 'is', 'are', 'was', 'were', 'has', 'had']\n",
    "    nouns = [words for words, pos in tagged_words if pos.startswith('NN')]\n",
    "    # avoids auxiliary verbs\n",
    "    verbs = [word for word, pos in tagged_words if pos.startswith('VB')and word not in auxiliary_verbs] \n",
    "    # to bring verbs to its base form\n",
    "    verbs = [lemmatizer.lemmatize(verb, pos='v') for verb in verbs]\n",
    "    # dictionary to store english and HINGLISH nouns\n",
    "    translated_words = {'feedback':'प्रतिक्रिया', 'definitely':'निश्चित', 'section':'खण्ड'} \n",
    "    for noun in nouns:        \n",
    "            hi_noun = hi_translation(noun)                \n",
    "            translated_words[noun] = hi_noun    \n",
    "    for verb in verbs:\n",
    "        hi_verb = hi_translation(verb)\n",
    "        modified_value = hi_verb.split(' ', 1)[0]  # Split by the first space and keep the first part\n",
    "        translated_words[verb] = modified_value    \n",
    "    return translated_words"
   ]
  },
  {
   "cell_type": "code",
   "execution_count": 6,
   "id": "bbb90603",
   "metadata": {},
   "outputs": [],
   "source": [
    "# English to Hindi Translation\n",
    "def hi_translation(en_article):\n",
    "    inputs = tokenizer.encode(en_article, return_tensors=\"pt\")\n",
    "    translated_id = model.generate(inputs, max_length=150, num_return_sequences=1, num_beams=4)\n",
    "    translated_output=tokenizer.decode(translated_id[0], skip_special_tokens=True)  \n",
    "    translated_output = translated_output.replace('\\u200d', '') # handle ZWJ characters\n",
    "    return translated_output"
   ]
  },
  {
   "cell_type": "code",
   "execution_count": 7,
   "id": "a89991bc",
   "metadata": {},
   "outputs": [],
   "source": [
    "# Switching Hindi nouns to English nouns to keep certain words in English\n",
    "def noun_switch(nouns, hinglish_text):\n",
    "    for key, value in nouns.items():\n",
    "        matches = re.findall(r'\\b' + re.escape(value) + r'\\b', hinglish_text)    \n",
    "        for match in matches:\n",
    "            hinglish_text = hinglish_text.replace(match, key)\n",
    "    return hinglish_text"
   ]
  },
  {
   "cell_type": "code",
   "execution_count": 8,
   "id": "63c10c39",
   "metadata": {},
   "outputs": [
    {
     "name": "stdout",
     "output_type": "stream",
     "text": [
      "INPUT : 1. Definitely share your feedback in the comment section.\n",
      "1 definitely रूप से comment खण्ड में आपकी feedback share करें.\n"
     ]
    }
   ],
   "source": [
    "# SENTENCE 1\n",
    "en_article = input(\"INPUT : \")\n",
    "nouns = spot_nouns_verbs(en_article)\n",
    "hi_text = hi_translation(en_article)\n",
    "# Loop through the dictionary and perform replacements\n",
    "for eng_word, hin_word in nouns.items():\n",
    "    hi_text = hi_text.replace(hin_word, eng_word)\n",
    "\n",
    "print(hi_text)"
   ]
  },
  {
   "cell_type": "code",
   "execution_count": 9,
   "id": "3161bda4",
   "metadata": {},
   "outputs": [
    {
     "name": "stdout",
     "output_type": "stream",
     "text": [
      "INPUT : 2. So even if it's a big video, I will clearly mention all the products.\n",
      "2 अगर यह एक बड़ा video है, तो भी मैं स्पष्ट रूप से सभी productsों का mention करेंगे।\n"
     ]
    }
   ],
   "source": [
    "# SENTENCE 2\n",
    "en_article = input(\"INPUT : \")\n",
    "nouns = spot_nouns_verbs(en_article)\n",
    "hi_text = hi_translation(en_article)\n",
    "# Loop through the dictionary and perform replacements\n",
    "for eng_word, hin_word in nouns.items():\n",
    "    hi_text = hi_text.replace(hin_word, eng_word)\n",
    "\n",
    "print(hi_text)"
   ]
  },
  {
   "cell_type": "code",
   "execution_count": 10,
   "id": "a3b29938",
   "metadata": {},
   "outputs": [
    {
     "name": "stdout",
     "output_type": "stream",
     "text": [
      "INPUT : 3. I was waiting for my bag.\n",
      "3 मैं अपने बैग के लिए wait कर रहा था.\n"
     ]
    }
   ],
   "source": [
    "# SENTENCE 3\n",
    "en_article = input(\"INPUT : \")\n",
    "nouns = spot_nouns_verbs(en_article)\n",
    "hi_text = hi_translation(en_article)\n",
    "\n",
    "# Loop through the dictionary and perform replacements\n",
    "for eng_word, hin_word in nouns.items():\n",
    "    hi_text = hi_text.replace(hin_word, eng_word)\n",
    "\n",
    "print(hi_text)"
   ]
  },
  {
   "cell_type": "code",
   "execution_count": null,
   "id": "f8f976c3",
   "metadata": {},
   "outputs": [],
   "source": []
  }
 ],
 "metadata": {
  "kernelspec": {
   "display_name": "Python 3 (ipykernel)",
   "language": "python",
   "name": "python3"
  },
  "language_info": {
   "codemirror_mode": {
    "name": "ipython",
    "version": 3
   },
   "file_extension": ".py",
   "mimetype": "text/x-python",
   "name": "python",
   "nbconvert_exporter": "python",
   "pygments_lexer": "ipython3",
   "version": "3.9.13"
  }
 },
 "nbformat": 4,
 "nbformat_minor": 5
}
